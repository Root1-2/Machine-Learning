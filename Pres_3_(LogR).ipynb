{
  "nbformat": 4,
  "nbformat_minor": 0,
  "metadata": {
    "colab": {
      "provenance": []
    },
    "kernelspec": {
      "name": "python3",
      "display_name": "Python 3"
    },
    "language_info": {
      "name": "python"
    }
  },
  "cells": [
    {
      "cell_type": "markdown",
      "source": [
        "**4. Logistic Regression**\n",
        "\n",
        "*   Load the Wine dataset from scikit-learn\n",
        "*   Perform exploratory data analysis and preprocess the data as necessary\n",
        "*   Split the dataset into a training set and a testing set (70/30 ratio)\n",
        "*   Train a logistic regression model on the training set and make predictions on the testing set\n",
        "*   Compute the confusion matrix, precision, recall and F1-score of your model and interpret the result\n"
      ],
      "metadata": {
        "id": "WbxNRVeE39A2"
      }
    },
    {
      "cell_type": "code",
      "execution_count": 1,
      "metadata": {
        "id": "R3WPfc2f3yhZ"
      },
      "outputs": [],
      "source": [
        "#importing the libraries\n",
        "from sklearn.datasets import load_wine\n",
        "from sklearn.model_selection import train_test_split\n",
        "from sklearn.linear_model import LogisticRegression\n",
        "from sklearn.metrics import confusion_matrix, precision_score, recall_score, f1_score"
      ]
    },
    {
      "cell_type": "code",
      "source": [
        "wine_data = load_wine()"
      ],
      "metadata": {
        "id": "VUJdrg4r4hhH"
      },
      "execution_count": 8,
      "outputs": []
    },
    {
      "cell_type": "code",
      "source": [
        "import pandas as pd\n",
        "\n",
        "# Create a DataFrame for easier exploration (optional)\n",
        "wine_df = pd.DataFrame(data=wine_data.data, columns=wine_data.feature_names)\n",
        "wine_df['target'] = wine_data.target\n",
        "\n",
        "# Split the data into features (X) and target (y)\n",
        "x = wine_data.data\n",
        "y = wine_data.target"
      ],
      "metadata": {
        "id": "70qdxlXa4ndK"
      },
      "execution_count": 9,
      "outputs": []
    },
    {
      "cell_type": "code",
      "source": [
        "X_train, X_test, y_train, y_test = train_test_split(x, y, test_size=0.3, random_state=2)"
      ],
      "metadata": {
        "id": "EtFlODLG4pFy"
      },
      "execution_count": 10,
      "outputs": []
    },
    {
      "cell_type": "code",
      "source": [
        "#Logistic Regression Model\n",
        "\n",
        "logreg_model = LogisticRegression()\n",
        "logreg_model.fit(X_train, y_train)\n",
        "y_pred = logreg_model.predict(X_test)"
      ],
      "metadata": {
        "id": "V65Mj2xi4vZ9"
      },
      "execution_count": null,
      "outputs": []
    },
    {
      "cell_type": "code",
      "source": [
        "y_pred"
      ],
      "metadata": {
        "colab": {
          "base_uri": "https://localhost:8080/"
        },
        "id": "1rxw8Htc437o",
        "outputId": "ca32b2d7-411b-4a0e-962f-c290d1b38f4f"
      },
      "execution_count": 12,
      "outputs": [
        {
          "output_type": "execute_result",
          "data": {
            "text/plain": [
              "array([0, 0, 2, 1, 0, 0, 1, 2, 1, 0, 1, 0, 0, 2, 2, 1, 0, 0, 0, 2, 1, 0,\n",
              "       1, 1, 0, 0, 1, 0, 0, 1, 2, 1, 2, 2, 0, 1, 2, 1, 1, 1, 2, 2, 1, 0,\n",
              "       2, 1, 1, 0, 2, 1, 1, 1, 1, 1])"
            ]
          },
          "metadata": {},
          "execution_count": 12
        }
      ]
    },
    {
      "cell_type": "code",
      "source": [
        "# Compute the confusion matrix, precision, recall, and F1-score\n",
        "\n",
        "conf_matrix = confusion_matrix(y_test, y_pred)\n",
        "precision = precision_score(y_test, y_pred, average='weighted')\n",
        "recall = recall_score(y_test, y_pred, average='weighted')\n",
        "f1 = f1_score(y_test, y_pred, average='weighted')"
      ],
      "metadata": {
        "id": "TVVM-bkQ5JAx"
      },
      "execution_count": 18,
      "outputs": []
    },
    {
      "cell_type": "code",
      "source": [
        "conf_matrix"
      ],
      "metadata": {
        "colab": {
          "base_uri": "https://localhost:8080/"
        },
        "id": "sfU_uNn35Tis",
        "outputId": "688df679-61d0-4236-d83f-b3f72b1f3d5c"
      },
      "execution_count": 14,
      "outputs": [
        {
          "output_type": "execute_result",
          "data": {
            "text/plain": [
              "array([[18,  2,  0],\n",
              "       [ 0, 20,  0],\n",
              "       [ 0,  1, 13]])"
            ]
          },
          "metadata": {},
          "execution_count": 14
        }
      ]
    },
    {
      "cell_type": "code",
      "source": [
        "precision"
      ],
      "metadata": {
        "colab": {
          "base_uri": "https://localhost:8080/"
        },
        "id": "6UftHy9m5Uxl",
        "outputId": "8af0559a-0184-416f-8710-44f09d39135c"
      },
      "execution_count": 15,
      "outputs": [
        {
          "output_type": "execute_result",
          "data": {
            "text/plain": [
              "0.9516908212560387"
            ]
          },
          "metadata": {},
          "execution_count": 15
        }
      ]
    },
    {
      "cell_type": "code",
      "source": [
        "recall"
      ],
      "metadata": {
        "colab": {
          "base_uri": "https://localhost:8080/"
        },
        "id": "0GGuWXs25WTt",
        "outputId": "12aacf88-0720-4eed-9cb3-69a5d3777e2e"
      },
      "execution_count": 16,
      "outputs": [
        {
          "output_type": "execute_result",
          "data": {
            "text/plain": [
              "0.9444444444444444"
            ]
          },
          "metadata": {},
          "execution_count": 16
        }
      ]
    },
    {
      "cell_type": "code",
      "source": [
        "f1"
      ],
      "metadata": {
        "colab": {
          "base_uri": "https://localhost:8080/"
        },
        "id": "G07-mPKt5X0G",
        "outputId": "f8b163aa-f3f0-444d-94e4-393d54290708"
      },
      "execution_count": 17,
      "outputs": [
        {
          "output_type": "execute_result",
          "data": {
            "text/plain": [
              "0.9450648345430521"
            ]
          },
          "metadata": {},
          "execution_count": 17
        }
      ]
    },
    {
      "cell_type": "code",
      "source": [],
      "metadata": {
        "id": "R7ag-vN25ZL-"
      },
      "execution_count": null,
      "outputs": []
    }
  ]
}